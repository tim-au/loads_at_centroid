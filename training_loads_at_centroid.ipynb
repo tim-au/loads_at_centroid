{
 "cells": [
  {
   "cell_type": "markdown",
   "metadata": {},
   "source": [
    "# How to calculate bolt loads within a bolt group\n",
    "**Timothy Teske** \n",
    "\n",
    "\n",
    "A **bolt group** is a collection of fasteners through which loads (forces and moments) are reacted. The forces and moments acting on the bolt group self-distrubute to act on each individual bolt within the bolt group. The reaction force generated in each bolt will be a combination of tensile and shear forces.\n",
    "\n",
    "\n",
    "The steps involved in calculating the individual bolt loads on fasteners within a bolt group are shown below:\n",
    "\n",
    "1. Determine the x, y cooridnates of each bolt within the bolt group\n",
    "2. Determine the centroid of the bolt group\n",
    "3. `Determine the loads (forces and moments) acting at the centroid of the bolt group`\n",
    "4. Distribute the loads on the bolt group centroid to each individual bolt"
   ]
  },
  {
   "cell_type": "markdown",
   "metadata": {},
   "source": [
    "In the previous notebook we explored simple functions to determine the x, y coorindates of a bolt group. We also reviewed how the bolt centroid is calculated and its relationship with the area of each fastener.\n",
    "\n",
    "In this notebook we will look at the process for `calculating loads acting at the centroid of the bolt group`.\n",
    "\n",
    "Before we start, we will import libraries which will make calculation easier:"
   ]
  },
  {
   "cell_type": "code",
   "execution_count": 1,
   "metadata": {},
   "outputs": [],
   "source": [
    "# import helpful libraries / functions\n",
    "\n",
    "import numpy as np\n",
    "from numpy import array, cross\n"
   ]
  },
  {
   "cell_type": "markdown",
   "metadata": {},
   "source": [
    "## 3. Loads at centroid of bolt group"
   ]
  },
  {
   "cell_type": "markdown",
   "metadata": {},
   "source": [
    "Consider the beam in the image below loaded at point A and point B.\n",
    "\n",
    "The centroid of the bolt group is located at point C."
   ]
  },
  {
   "cell_type": "markdown",
   "metadata": {},
   "source": [
    "![RHS Beam](./images/RHS_1.png)"
   ]
  },
  {
   "cell_type": "markdown",
   "metadata": {},
   "source": [
    "The cooridnates of point A, B and C and the external force on point A and B are shown below:\n",
    "\n",
    "| ID    |x (mm) |y (mm) |z (mm) |Fx (N) |Fy (N) |Fz (N)| \n",
    "|:----  |:----: |:----: |:----: |:----: |:----: |:----:|\n",
    "| A     | 0     | 0     | 1500  | -1200 | 2000  | -3000|\n",
    "| B     | 0     | 800   | 1100  | 3200  | 1200  | -1200|\n",
    "| C     | 0     | 0     | 0     | ---   | ---   | ---  |"
   ]
  },
  {
   "cell_type": "markdown",
   "metadata": {},
   "source": [
    "### Forces at the bolt centroid"
   ]
  },
  {
   "cell_type": "markdown",
   "metadata": {},
   "source": [
    "To calculate the forces at the bolt group centroid, we use the following equation:\n",
    "\n",
    "$$ \\overrightarrow{Fc} = {\\sum}_i\\overrightarrow{F_i} $$\n",
    "\n",
    "When considering force components in the x, y and z directions, this results in the following equations for our example problem:\n",
    "\n",
    "$$ F_{cx} = F_{ax} + F_{bx} $$\n",
    "$$ F_{cy} = F_{ay} + F_{by} $$\n",
    "$$ F_{cz} = F_{az} + F_{bz} $$"
   ]
  },
  {
   "cell_type": "markdown",
   "metadata": {},
   "source": [
    "The calculation method you could use if you were manually summing the forces at the bolt centroid:"
   ]
  },
  {
   "cell_type": "code",
   "execution_count": 2,
   "metadata": {},
   "outputs": [
    {
     "name": "stdout",
     "output_type": "stream",
     "text": [
      "Fcx:  2000 N\n",
      "Fcy:  3200 N\n",
      "Fcz:  -4200 N\n"
     ]
    }
   ],
   "source": [
    "# Forces at point A\n",
    "Fax, Fay, Faz = -1200, 2000, -3000\n",
    "\n",
    "# Forces at point B\n",
    "Fbx, Fby, Fbz = 3200, 1200, -1200\n",
    "\n",
    "# Forces at bolt centroid\n",
    "Fcx = Fax + Fbx\n",
    "Fcy = Fay + Fby\n",
    "Fcz = Faz + Fbz\n",
    "\n",
    "print('Fcx: ', Fcx, 'N')\n",
    "print('Fcy: ', Fcy, 'N')\n",
    "print('Fcz: ', Fcz, 'N')"
   ]
  },
  {
   "cell_type": "markdown",
   "metadata": {},
   "source": [
    "A faster and more convenient method to calculate the sum of forces at the bolt centroid is to use vector addition:"
   ]
  },
  {
   "cell_type": "code",
   "execution_count": 3,
   "metadata": {},
   "outputs": [
    {
     "name": "stdout",
     "output_type": "stream",
     "text": [
      "Fcx:  2000 N\n",
      "Fcy:  3200 N\n",
      "Fcz:  -4200 N\n"
     ]
    }
   ],
   "source": [
    "Fa = array([Fax, Fay, Faz])\n",
    "Fb = array([Fbx, Fby, Fbz])\n",
    "\n",
    "Fc = Fa + Fb\n",
    "\n",
    "print('Fcx: ', Fcx, 'N')\n",
    "print('Fcy: ', Fcy, 'N')\n",
    "print('Fcz: ', Fcz, 'N')"
   ]
  },
  {
   "cell_type": "markdown",
   "metadata": {},
   "source": [
    "### Moments at the bolt centroid"
   ]
  },
  {
   "cell_type": "markdown",
   "metadata": {},
   "source": [
    "Let's consider the same example problem again:\n",
    "\n",
    "![RHS Beam](./images/RHS_1.png)"
   ]
  },
  {
   "cell_type": "markdown",
   "metadata": {},
   "source": [
    "The cooridnates of point A, B and C and the external force on point A and B are shown below:\n",
    "\n",
    "| ID    |x (mm) |y (mm) |z (mm) |Fx (N) |Fy (N) |Fz (N)| \n",
    "|:----  |:----: |:----: |:----: |:----: |:----: |:----:|\n",
    "| A     | 0     | 0     | 1500  | -1200 | 2000  | -3000|\n",
    "| B     | 0     | 800   | 1100  | 3200  | 1200  | -1200|\n",
    "| C     | 0     | 0     | 0     | ---   | ---   | ---  |"
   ]
  },
  {
   "cell_type": "markdown",
   "metadata": {},
   "source": [
    "The moment occuring at the bolt group centroid is equal to the sum of all applied moments and the moment generated by the offset forces. The moment occuring at the bolt group centroid is given by:\n",
    "\n",
    "$$ \\overrightarrow{M_c} = {\\sum}_i \\overrightarrow{M_i} + {\\sum}_i(\\overrightarrow{R_{c,i}}{\\times} \\overrightarrow{F_i})"
   ]
  },
  {
   "cell_type": "markdown",
   "metadata": {},
   "source": [
    "The calculation method you could use if you were manually summing the moments at the bolt centroid is shown below. \n",
    "\n",
    "Note, the right hand rule is used to determine the direction of the moments (positive for anti-clockwise direction when right thumb points along the direction of the relevant axis)."
   ]
  },
  {
   "cell_type": "code",
   "execution_count": 4,
   "metadata": {},
   "outputs": [
    {
     "name": "stdout",
     "output_type": "stream",
     "text": [
      "Mcx:  -5280000 N.mm\n",
      "Mcy:  1720000 N.mm\n",
      "Mcz:  -2560000 N.mm\n"
     ]
    }
   ],
   "source": [
    "# location of points A, B and C\n",
    "point_a = ax, ay, az = 0, 0, 1500\n",
    "point_b = bx, by, bz = 0, 800, 1100\n",
    "point_c = cx, cy, cz = 0, 0, 0\n",
    "\n",
    "# vector distance from the centroid to point A (CA) and the centroid to point B (CB) \n",
    "CA = CAx, CAy, CAz = (ax - cx, ay - cy, az - cz)\n",
    "CB = CBx, CBy, CBz = (bx - cx, by - cy, bz - cz)\n",
    "\n",
    "Mcx = (-Fay * CAz) - (Fby * CBz) + (Fbz * CBy)\n",
    "Mcy = (Fax * CAz) + (Fbx * CBz)\n",
    "Mcz = (-Fbx * CBy)\n",
    "\n",
    "print('Mcx: ', Mcx, 'N.mm')\n",
    "print('Mcy: ', Mcy, 'N.mm')\n",
    "print('Mcz: ', Mcz, 'N.mm')"
   ]
  },
  {
   "cell_type": "markdown",
   "metadata": {},
   "source": [
    "A faster and more convenient method to calculate the sum of moments at the bolt centroid is to use vector opertions:"
   ]
  },
  {
   "cell_type": "code",
   "execution_count": 5,
   "metadata": {},
   "outputs": [
    {
     "name": "stdout",
     "output_type": "stream",
     "text": [
      "Mcx:  -5280000 N.mm\n",
      "Mcy:  1720000 N.mm\n",
      "Mcz:  -2560000 N.mm\n"
     ]
    }
   ],
   "source": [
    "Mc = cross(CA, Fa) + cross(CB, Fb)\n",
    "\n",
    "print('Mcx: ', Mc[0], 'N.mm')\n",
    "print('Mcy: ', Mc[1], 'N.mm')\n",
    "print('Mcz: ', Mc[2], 'N.mm')"
   ]
  },
  {
   "cell_type": "markdown",
   "metadata": {},
   "source": [
    "If a moment were applied to point B (in additon to the previously defined forces), then the moment would be simply added to the moment at the bolt centroid Mc.\n",
    "\n",
    "For example,\n",
    "| ID    |x (mm) |y (mm) |z (mm) |Mx (Nmm) |My (Nmm) |Mz (Nmm)| \n",
    "|:----  |:----: |:----: |:----: |:----: |:----: |:----:|\n",
    "| B    | 0     | 800     | 1100  | -1,500,000 | 2,000,000  | -3,200,000 |"
   ]
  },
  {
   "cell_type": "code",
   "execution_count": 6,
   "metadata": {},
   "outputs": [
    {
     "name": "stdout",
     "output_type": "stream",
     "text": [
      "The new value of Mc with a moment applied at point B:\n",
      "Mcx:  -6780000 N.mm\n",
      "Mcy:  3720000 N.mm\n",
      "Mcz:  -5760000 N.mm\n"
     ]
    }
   ],
   "source": [
    "Mc_new = Mc + array([-1_500_000, 2_000_000, -3_200_000])\n",
    "\n",
    "print('The new value of Mc with a moment applied at point B:')\n",
    "print('Mcx: ', Mc_new[0], 'N.mm')\n",
    "print('Mcy: ', Mc_new[1], 'N.mm')\n",
    "print('Mcz: ', Mc_new[2], 'N.mm')"
   ]
  },
  {
   "cell_type": "markdown",
   "metadata": {},
   "source": [
    "### Exercise 3.1 🤔"
   ]
  },
  {
   "cell_type": "markdown",
   "metadata": {},
   "source": [
    "Calculate the forces and moments occuring at the bolt centroid for the problem shown below:\n",
    "\n",
    "![RHS Beam 2](./images/RHS_2.png)\n"
   ]
  },
  {
   "cell_type": "markdown",
   "metadata": {},
   "source": [
    "The cooridnates of point B, C and D and the external force on point B and D are shown below:\n",
    "\n",
    "| ID    |x (mm) |y (mm) |z (mm) |Fx (N) |Fy (N) |Fz (N)| \n",
    "|:----  |:----: |:----: |:----: |:----: |:----: |:----:|\n",
    "| B     | 0     | 800   | 1100  | 3200  | 1200  | -1200|\n",
    "| C     | 0     | 0     | 0     | ---   | ---   | ---  |\n",
    "| D     | 0     | -950  | 1475  | 1800  | 3300  | 2200 |"
   ]
  },
  {
   "cell_type": "markdown",
   "metadata": {},
   "source": [
    "Manually calculate the forces and moments at the bolt group centroid using the right hand rule (do not use vector operations)"
   ]
  },
  {
   "cell_type": "code",
   "execution_count": null,
   "metadata": {},
   "outputs": [],
   "source": [
    "# Forces at point D\n",
    "# Fdx, Fdy, Fdz = \n",
    "\n",
    "# Forces at point B\n",
    "# Fbx, Fby, Fbz = \n",
    "\n",
    "# Forces at bolt centroid\n",
    "# Fcx = \n",
    "# Fcy = \n",
    "# Fcz = \n",
    "\n",
    "# print('Fcx: ', Fcx, 'N')\n",
    "# print('Fcy: ', Fcy, 'N')\n",
    "# print('Fcz: ', Fcz, 'N')"
   ]
  },
  {
   "cell_type": "code",
   "execution_count": null,
   "metadata": {},
   "outputs": [],
   "source": [
    "# location of points D, B and C\n",
    "# point_d = dx, dy, dz = \n",
    "# point_b = bx, by, bz = \n",
    "# point_c = cx, cy, cz = \n",
    "\n",
    "# vector distance from the centroid to point D (CD) and the centroid to point B (CB) \n",
    "# CD = CDx, CDy, CDz = \n",
    "# CB = CBx, CBy, CBz = \n",
    "\n",
    "# Mcx = \n",
    "# Mcy = \n",
    "# Mcz = \n",
    "\n",
    "# print('Mcx: ', Mcx, 'N.mm')\n",
    "# print('Mcy: ', Mcy, 'N.mm')\n",
    "# print('Mcz: ', Mcz, 'N.mm')"
   ]
  },
  {
   "cell_type": "markdown",
   "metadata": {},
   "source": [
    "Check your calculations by using vector methods:"
   ]
  },
  {
   "cell_type": "code",
   "execution_count": null,
   "metadata": {},
   "outputs": [],
   "source": [
    "# complete using vector methods:\n",
    "\n",
    "# Fc = \n",
    "# Mc = \n",
    "\n",
    "# print('Fcx: ', Fcx, 'N')\n",
    "# print('Fcy: ', Fcy, 'N')\n",
    "# print('Fcz: ', Fcz, 'N')\n",
    "\n",
    "# print('Mcx: ', Mc[0], 'N.mm')\n",
    "# print('Mcy: ', Mc[1], 'N.mm')\n",
    "# print('Mcz: ', Mc[2], 'N.mm')\n"
   ]
  },
  {
   "cell_type": "markdown",
   "metadata": {},
   "source": [
    "### Exercise 3.2 🤔"
   ]
  },
  {
   "cell_type": "markdown",
   "metadata": {},
   "source": [
    "Calculate the forces and moments occuring at the bolt centroid for the problem shown below:\n",
    "\n",
    "![RHS Beam 2](./images/RHS_3.png)"
   ]
  },
  {
   "cell_type": "markdown",
   "metadata": {},
   "source": [
    "The cooridnates of point B, C and E and the external force on point B and E are shown below:\n",
    "\n",
    "| ID    |x (mm) |y (mm) |z (mm) |Fx (N) |Fy (N) |Fz (N)| \n",
    "|:----  |:----: |:----: |:----: |:----: |:----: |:----:|\n",
    "| B     | 0     | 800   | 1100  | 3200  | 1200  | -1200|\n",
    "| C     | 0     | 0     | 0     | ---   | ---   | ---  |\n",
    "| E     | 600   | 0     | 1250  | 3300  | 2860  | -4280|"
   ]
  },
  {
   "cell_type": "markdown",
   "metadata": {},
   "source": [
    "Manually calculate the forces and moments at the centroid using the right hand rule (do not use vector operations)\n",
    "\n",
    "😣 this is the last time you will need to manually calculate forces and moments in this exercise 😉"
   ]
  },
  {
   "cell_type": "code",
   "execution_count": null,
   "metadata": {},
   "outputs": [],
   "source": [
    "# Forces at point E\n",
    "# Fex, Fey, Fez = \n",
    "\n",
    "# Forces at point B\n",
    "# Fbx, Fby, Fbz = \n",
    "\n",
    "# Forces at bolt centroid\n",
    "# Fcx = \n",
    "# Fcy = \n",
    "# Fcz = \n",
    "\n",
    "# print('Fcx: ', Fcx, 'N')\n",
    "# print('Fcy: ', Fcy, 'N')\n",
    "# print('Fcz: ', Fcz, 'N')"
   ]
  },
  {
   "cell_type": "code",
   "execution_count": null,
   "metadata": {},
   "outputs": [],
   "source": [
    "# location of points E, B and C\n",
    "# point_e = ex, ey, ez = \n",
    "# point_b = bx, by, bz = \n",
    "# point_c = cx, cy, cz = \n",
    "\n",
    "# vector distance from the centroid to point E (CE) and the centroid to point B (CB) \n",
    "# CE = CEx, CEy, CEz = \n",
    "# CB = CBx, CBy, CBz = \n",
    "\n",
    "# Mcx = \n",
    "# Mcy = \n",
    "# Mcz = \n",
    "\n",
    "# print('Mcx: ', Mcx, 'N.mm')\n",
    "# print('Mcy: ', Mcy, 'N.mm')\n",
    "# print('Mcz: ', Mcz, 'N.mm')"
   ]
  },
  {
   "cell_type": "markdown",
   "metadata": {},
   "source": [
    "Check your calculations using vector methods:"
   ]
  },
  {
   "cell_type": "code",
   "execution_count": null,
   "metadata": {},
   "outputs": [],
   "source": [
    "# complete using vector methods:\n",
    "\n",
    "# Fc = \n",
    "# Mc = \n",
    "\n",
    "# print('Fcx: ', Fcx, 'N')\n",
    "# print('Fcy: ', Fcy, 'N')\n",
    "# print('Fcz: ', Fcz, 'N')\n",
    "\n",
    "# print('Mcx: ', Mc[0], 'N.mm')\n",
    "# print('Mcy: ', Mc[1], 'N.mm')\n",
    "# print('Mcz: ', Mc[2], 'N.mm')\n"
   ]
  },
  {
   "cell_type": "markdown",
   "metadata": {},
   "source": [
    "### Exercise 3.3 🤔"
   ]
  },
  {
   "cell_type": "markdown",
   "metadata": {},
   "source": [
    "Calculate the forces and moments occuring at the bolt centroid for the problem shown below:\n",
    "\n",
    "![RHS Beam 3a](./images/RHS_4.png)"
   ]
  },
  {
   "cell_type": "markdown",
   "metadata": {},
   "source": [
    "The cooridnates of each point and associated external forces and moments are shown below:\n",
    "\n",
    "| ID    |x (mm) |y (mm) |z (mm) |Fx (N) |Fy (N) |Fz (N)|Mx (Nmm)    |My (Nmm)   |Mz (Nmm)   | \n",
    "|:----  |:----: |:----: |:----: |:----: |:----: |:----:|:----:      |:----:     |:----:     |\n",
    "| A     | 0     | 0     | 1500  | -1200 | 2000  | -3000|0           |1,200,000  |0          |\n",
    "| B     | 0     | 800   | 1100  | 3200  | 1200  | -1200|-2,500,000  |0          |0          |\n",
    "| C     | 0     | 0     | 0     | ---   | ---   | ---  | ---        | ---       | ---       |\n",
    "| D     | 0     | -950  | 1475  | 1800  | 3300  | 2200 |3,300,000   |0          |0          |\n",
    "| E     | 600   | 0     | 1250  | 3300  | 2860  | -4280|1,200,000   |-3,400,000 |-5,600,000 |"
   ]
  },
  {
   "cell_type": "markdown",
   "metadata": {},
   "source": [
    "I wouldn't make you do this one manually 😊 \n",
    "\n",
    "Use vector operations to determine the forces and moments acting at the bolt group centroid:"
   ]
  },
  {
   "cell_type": "code",
   "execution_count": null,
   "metadata": {},
   "outputs": [],
   "source": [
    "# complete using vector methods:\n",
    "\n",
    "# Fc = \n",
    "# Mc = \n",
    "\n",
    "# print('Fcx: ', Fcx, 'N')\n",
    "# print('Fcy: ', Fcy, 'N')\n",
    "# print('Fcz: ', Fcz, 'N')\n",
    "\n",
    "# print('Mcx: ', Mc[0], 'N.mm')\n",
    "# print('Mcy: ', Mc[1], 'N.mm')\n",
    "# print('Mcz: ', Mc[2], 'N.mm')"
   ]
  }
 ],
 "metadata": {
  "interpreter": {
   "hash": "40d3a090f54c6569ab1632332b64b2c03c39dcf918b08424e98f38b5ae0af88f"
  },
  "kernelspec": {
   "display_name": "Python 3.7.11 ('base')",
   "language": "python",
   "name": "python3"
  },
  "language_info": {
   "codemirror_mode": {
    "name": "ipython",
    "version": 3
   },
   "file_extension": ".py",
   "mimetype": "text/x-python",
   "name": "python",
   "nbconvert_exporter": "python",
   "pygments_lexer": "ipython3",
   "version": "3.7.11"
  },
  "orig_nbformat": 4
 },
 "nbformat": 4,
 "nbformat_minor": 2
}
